{
 "cells": [
  {
   "cell_type": "markdown",
   "id": "f94d27ae",
   "metadata": {},
   "source": [
    "# Clear Sky Composite of Goes-16 Images"
   ]
  },
  {
   "cell_type": "markdown",
   "id": "b1d5c27e",
   "metadata": {},
   "source": [
    "## Step 1: Setting work environment"
   ]
  },
  {
   "cell_type": "markdown",
   "id": "16d9ffa5",
   "metadata": {},
   "source": [
    "Importing libraries"
   ]
  },
  {
   "cell_type": "code",
   "execution_count": 167,
   "id": "097716b0",
   "metadata": {},
   "outputs": [],
   "source": [
    "import calendar, datetime, os\n",
    "import numpy as np\n",
    "import xarray as xr\n",
    "import matplotlib.pyplot as plt\n",
    "import cartopy.crs as ccrs"
   ]
  },
  {
   "cell_type": "markdown",
   "id": "853130cd",
   "metadata": {},
   "source": [
    "Input/output path and locations/period of interest"
   ]
  },
  {
   "cell_type": "code",
   "execution_count": 118,
   "id": "59a72c24",
   "metadata": {},
   "outputs": [],
   "source": [
    "# Input: path where the files with .nc extension are located\n",
    "path_input = \" \"\n",
    "\n",
    "# Output 1: path where the cropped .nc files will be saved\n",
    "path_output_1 = \" \"\n",
    "\n",
    "# Output 2: path where the composite files with .nc extensions will be saved\n",
    "path_output_2 =  \" \"\n",
    "\n",
    "# Output 3: path where the clear sky images will be saved\n",
    "path_output_3 = \" \"\n",
    "\n",
    "# Year and months of interest\n",
    "# IMPORTANT: months must be in the string formar, in the 01-12 range\n",
    "year = 2019\n",
    "months = ['01', '04', '07', '10']\n",
    "\n",
    "# Locations: list with names, latitudes and longitudes of the areas of interest\n",
    "locations = [['brb', -15.60083, -47.71306],\n",
    "             ['cpa', -22.6896, -45.0062],\n",
    "             ['ptr', -9.0689, -40.3197],\n",
    "             ['sms', -29.4428, -53.8231]]"
   ]
  },
  {
   "cell_type": "markdown",
   "id": "48fb3dd4",
   "metadata": {},
   "source": [
    "## Part 2: cropping NetCDF files"
   ]
  },
  {
   "cell_type": "code",
   "execution_count": 81,
   "id": "14ee3c58",
   "metadata": {},
   "outputs": [],
   "source": [
    "# Setting file paths where the .nc files are located\n",
    "directory = os.fsencode(path_input)\n",
    "os.chdir(path_input)\n",
    "\n",
    "# Looping through the selected months\n",
    "for month in months:\n",
    "    \n",
    "    # Setting start and end date in julian day format\n",
    "    day_start = calendar.monthrange(year, int(month))[0]\n",
    "    day_end = calendar.monthrange(year, int(month))[1]\n",
    "\n",
    "    julian_start = datetime.datetime.strptime(month + '.' + str(day_start), '%m.%d').timetuple().tm_yday\n",
    "    julian_end = datetime.datetime.strptime(month + '.' + str(day_end), '%m.%d').timetuple().tm_yday\n",
    "\n",
    "    # Creating list with range of julian days which will be further used to locate the respective files\n",
    "    days = []\n",
    "\n",
    "    for day in range(julian_start, julian_end + 1):\n",
    "        if day < 10:\n",
    "            days.append('00' + str(day))\n",
    "        elif day < 100:\n",
    "            days.append('0' + str(day))\n",
    "        else:\n",
    "            days.append(str(day))\n",
    "    \n",
    "    # Looping through locations\n",
    "    for location in locations:\n",
    "        \n",
    "        # Looping through the files \n",
    "        for file in os.listdir(directory):\n",
    "            \n",
    "            file = file.decode('utf-8')\n",
    "            \n",
    "            # Matching the file with the desired month\n",
    "            if file[-13:-10] in days:\n",
    "                ds = xr.open_dataset(file)\n",
    "\n",
    "                # Extracting the date from the file\n",
    "                date = str(ds.attrs['date_created'])\n",
    "\n",
    "                # Selecting the variables\n",
    "                lon = ds['lon'].values\n",
    "                lat = ds['lat'].values\n",
    "\n",
    "                # Setting the value of k, this is the size of our box around the location\n",
    "                k = 2.0\n",
    "\n",
    "                # Setting the latitude and latitude\n",
    "                lat_station = location[1]\n",
    "                lon_station = location[2]\n",
    "                lat_list = list(lat)\n",
    "                lon_list = list(lon)\n",
    "\n",
    "                # Finding the closest point in the dataset that matches our location latitude and longitude\n",
    "                lat_start = lat_list.index(lat_list[min(range(len(lat_list)), key = lambda i: abs(lat_list[i]-(lat_station - k)))])\n",
    "                lat_end = lat_list.index(lat_list[min(range(len(lat_list)), key = lambda i: abs(lat_list[i]-(lat_station + k)))])\n",
    "                lon_start = lon_list.index(lon_list[min(range(len(lon_list)), key = lambda i: abs(lon_list[i]-(lon_station - k)))])\n",
    "                lon_end = lon_list.index(lon_list[min(range(len(lon_list)), key = lambda i: abs(lon_list[i]-(lon_station + k)))])\n",
    "\n",
    "                # Setting the new .nc file with our specified dimensions\n",
    "                data = ds['CMI'][lat_start:lat_end, lon_start:lon_end]\n",
    "\n",
    "                # Naming our file with the date and time\n",
    "                file = location[0] + '_' + date[0:4] + '_' + date[5:7] + '_' + date[8:10] + '_' + date[11:13] + date[14:16]\n",
    "\n",
    "                # Saving the cropped NetCDF file\n",
    "                data.to_netcdf(path=(path_output_1 + f'\\{file}.nc'))\n",
    "                ds.close()"
   ]
  },
  {
   "cell_type": "markdown",
   "id": "b8382f4f",
   "metadata": {},
   "source": [
    "## Part 3: creating composite image"
   ]
  },
  {
   "cell_type": "code",
   "execution_count": 150,
   "id": "bc4290db",
   "metadata": {},
   "outputs": [],
   "source": [
    "# Changing directory\n",
    "directory = os.fsencode(path_output_1)\n",
    "os.chdir(path_output_1)\n",
    "\n",
    "# Looping through locations\n",
    "for location in locations:\n",
    "    \n",
    "    # Looping through months\n",
    "    for month in months:\n",
    "        \n",
    "        # Creating a list to store the different times of each image\n",
    "        times = []\n",
    "\n",
    "        # Looping through files in the folder\n",
    "        for file in os.listdir(directory):\n",
    "\n",
    "            file = file.decode('utf-8')\n",
    "\n",
    "            # Matching the file name with the respective location and month\n",
    "            if file[0:3] == location[0] and file[9:11] == month:\n",
    "\n",
    "                if file[-7:-3] not in times:\n",
    "                    times.append(file[-7:-3])\n",
    "\n",
    "            #Looping through the times in the list\n",
    "            for time in times:\n",
    "                \n",
    "                # Creating dummy array to kickstart the composite file\n",
    "                ds1 = np.random.randint(1,5, size=(550,550))\n",
    "                \n",
    "                # Looping through the files in the folder\n",
    "                for file in os.listdir(directory):\n",
    "                    \n",
    "                        # Opening the respective file that matches the time\n",
    "                        if file.decode('utf-8')[-7:-3] == time:\n",
    "                            \n",
    "                            # Opening the dataset\n",
    "                            ds2 = xr.open_dataset(file.decode('utf-8'))\n",
    "                            \n",
    "                            # Vectorizing dataset\n",
    "                            ds1_ = np.reshape(ds1, (1, 550*550))\n",
    "                            ds2_ = np.reshape(ds2.CMI.values, (1, 550*550))\n",
    "                            \n",
    "                            # Getting minimum values between both datasets\n",
    "                            ds3 = np.reshape(np.minimum(ds1_,ds2_), (550,550))\n",
    "                            ds1 = ds3\n",
    "\n",
    "                # Creating new NetCDF file with minimum values           \n",
    "                ds = xr.Dataset({\"CMI\": ((\"lat\", \"lon\"), ds3)}, coords={\"lat\": ds2.lat.values,\"lon\": ds2.lon.values})\n",
    "                \n",
    "                # Setting file name and saving\n",
    "                file = location[0]+ '_' + month + '_'+ time\n",
    "                ds.to_netcdf(path=(path_output_2 + f'\\{file}.nc'))\n",
    "                \n",
    "                # Resetting dummy dataset\n",
    "                ds1 = np.random.randint(1,5, size=(550,550))"
   ]
  },
  {
   "cell_type": "markdown",
   "id": "cc363b2c",
   "metadata": {},
   "source": [
    "## Part 4: plotting the images"
   ]
  },
  {
   "cell_type": "code",
   "execution_count": 166,
   "id": "bbe6a24c",
   "metadata": {},
   "outputs": [],
   "source": [
    "# Changing directory\n",
    "directory = os.fsencode(path_output_2)\n",
    "os.chdir(path_output_2)\n",
    "\n",
    "# Looping through locations\n",
    "for location in locations:\n",
    "    \n",
    "    # Looping through files in folder\n",
    "    for file in os.listdir(directory):\n",
    "        \n",
    "        # Opening dataset\n",
    "        file = file.decode('utf-8')\n",
    "        ds = xr.open_dataset(file)\n",
    "\n",
    "        # Plotting the image\n",
    "        fig = plt.figure(figsize=(10,10))\n",
    "        ax = plt.axes(projection=ccrs.PlateCarree())\n",
    "        mapa = ds['CMI'].plot(ax=ax,transform=ccrs.PlateCarree(), x='lon', y='lat', add_colorbar=False, cmap='gray', vmax=0.8, vmin=0)\n",
    "        cax = fig.add_axes([ax.get_position().x1+0.01,ax.get_position().y0,0.02,ax.get_position().height])\n",
    "        plt.colorbar(mapa, cax=cax).remove()\n",
    "        gl = ax.grid(True)\n",
    "\n",
    "        # Saving image\n",
    "        file = file[0:-3] + '.png'\n",
    "        plt.savefig(path_output_3 + f'\\{file}')\n",
    "        plt.close()"
   ]
  }
 ],
 "metadata": {
  "kernelspec": {
   "display_name": "Python 3 (ipykernel)",
   "language": "python",
   "name": "python3"
  },
  "language_info": {
   "codemirror_mode": {
    "name": "ipython",
    "version": 3
   },
   "file_extension": ".py",
   "mimetype": "text/x-python",
   "name": "python",
   "nbconvert_exporter": "python",
   "pygments_lexer": "ipython3",
   "version": "3.8.10"
  }
 },
 "nbformat": 4,
 "nbformat_minor": 5
}
